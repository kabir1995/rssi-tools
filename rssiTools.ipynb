{
 "cells": [
  {
   "cell_type": "markdown",
   "metadata": {},
   "source": [
    "# RSSI Tools\n",
    "### Educational open source tool to measure fading and shadowing of channels through RSSI\n",
    "---"
   ]
  },
  {
   "cell_type": "code",
   "execution_count": 1,
   "metadata": {},
   "outputs": [],
   "source": [
    "from /gui/serialModule import SerialClass\n",
    "import pandas as pd\n",
    "import numpy as np\n",
    "from scipy.stats import norm, nakagami\n",
    "from scipy.special import gamma\n",
    "import matplotlib.pyplot as plt\n",
    "%matplotlib inline"
   ]
  },
  {
   "cell_type": "markdown",
   "metadata": {},
   "source": [
    "---"
   ]
  },
  {
   "cell_type": "markdown",
   "metadata": {},
   "source": [
    "## Conexão com rádio e experimento"
   ]
  },
  {
   "cell_type": "code",
   "execution_count": 8,
   "metadata": {},
   "outputs": [],
   "source": [
    "ser = SerialClass()"
   ]
  },
  {
   "cell_type": "markdown",
   "metadata": {},
   "source": [
    "List of all ports connected to the PC"
   ]
  },
  {
   "cell_type": "code",
   "execution_count": 9,
   "metadata": {
    "scrolled": true
   },
   "outputs": [
    {
     "data": {
      "text/plain": [
       "['COM3']"
      ]
     },
     "execution_count": 9,
     "metadata": {},
     "output_type": "execute_result"
    }
   ],
   "source": [
    "ser.list_ports()"
   ]
  },
  {
   "cell_type": "markdown",
   "metadata": {},
   "source": [
    "Change PORT in COM_PORT to the ESP port listed"
   ]
  },
  {
   "cell_type": "code",
   "execution_count": 10,
   "metadata": {},
   "outputs": [],
   "source": [
    "COM_PORT = \"COM3\""
   ]
  },
  {
   "cell_type": "code",
   "execution_count": 11,
   "metadata": {},
   "outputs": [],
   "source": [
    "ser.connect(COM_PORT)"
   ]
  },
  {
   "cell_type": "markdown",
   "metadata": {},
   "source": [
    "Checks connection with the ESP"
   ]
  },
  {
   "cell_type": "code",
   "execution_count": 12,
   "metadata": {},
   "outputs": [
    {
     "name": "stdout",
     "output_type": "stream",
     "text": [
      "Connected\n"
     ]
    }
   ],
   "source": [
    "if ser.handshake():\n",
    "    print(\"Connected to radio!\")\n",
    "else:\n",
    "    print(\"Connection Failed!\")"
   ]
  },
  {
   "cell_type": "markdown",
   "metadata": {},
   "source": [
    "Define amount of sample of the experiment"
   ]
  },
  {
   "cell_type": "code",
   "execution_count": 13,
   "metadata": {},
   "outputs": [],
   "source": [
    "samples = 3000\n",
    "sample_rate = 200\n",
    "distance = 3"
   ]
  },
  {
   "cell_type": "code",
   "execution_count": 14,
   "metadata": {},
   "outputs": [
    {
     "name": "stdout",
     "output_type": "stream",
     "text": [
      "100 samples\n",
      "200 samples\n",
      "300 samples\n",
      "400 samples\n",
      "500 samples\n",
      "600 samples\n",
      "700 samples\n",
      "800 samples\n",
      "900 samples\n",
      "1000 samples\n",
      "1100 samples\n",
      "1200 samples\n",
      "1300 samples\n",
      "1400 samples\n",
      "1500 samples\n",
      "1600 samples\n",
      "1700 samples\n",
      "1800 samples\n",
      "1900 samples\n",
      "2000 samples\n",
      "2100 samples\n",
      "2200 samples\n",
      "2300 samples\n",
      "2400 samples\n",
      "2500 samples\n",
      "2600 samples\n",
      "2700 samples\n",
      "2800 samples\n",
      "2900 samples\n",
      "3000 samples\n",
      "Experiment finished!\n"
     ]
    }
   ],
   "source": [
    "i = 0 \n",
    "rssi_list = []\n",
    "while i < samples:\n",
    "    rssi_list.append(ser.readSerial())\n",
    "    i += 1\n",
    "    if (i % 100) == 0:\n",
    "        print(f\"{i} samples\")\n",
    "print(\"Experiment finished!\")"
   ]
  },
  {
   "cell_type": "code",
   "execution_count": 15,
   "metadata": {
    "scrolled": true
   },
   "outputs": [
    {
     "data": {
      "text/plain": [
       "[<matplotlib.lines.Line2D at 0x17c647b8278>]"
      ]
     },
     "execution_count": 15,
     "metadata": {},
     "output_type": "execute_result"
    },
    {
     "data": {
      "image/png": "[encoded data removed]",
      "text/plain": [
       "<Figure size 432x288 with 1 Axes>"
      ]
     },
     "metadata": {},
     "output_type": "display_data"
    }
   ],
   "source": [
    "plt.plot(rssi_list)"
   ]
  },
  {
   "cell_type": "code",
   "execution_count": 16,
   "metadata": {},
   "outputs": [],
   "source": [
    "ser.disconnect()"
   ]
  },
  {
   "cell_type": "markdown",
   "metadata": {},
   "source": [
    "---"
   ]
  },
  {
   "cell_type": "markdown",
   "metadata": {},
   "source": [
    "## Saving RSSI samples in a file and plotting"
   ]
  },
  {
   "cell_type": "code",
   "execution_count": 17,
   "metadata": {},
   "outputs": [],
   "source": [
    "filename = f\"data/{samples}s_{sample_rate}ms_{distance}m\""
   ]
  },
  {
   "cell_type": "code",
   "execution_count": 18,
   "metadata": {},
   "outputs": [],
   "source": [
    "with open(filename + '.txt', 'w') as f:\n",
    "    for rssi in rssi_list:\n",
    "        f.write(str(rssi)+\"\\n\")"
   ]
  },
  {
   "cell_type": "code",
   "execution_count": 19,
   "metadata": {},
   "outputs": [],
   "source": [
    "df = pd.read_csv(f'data/{samples}s_{sample_rate}ms_{distance}m' + '.txt',sep='\\n',names=['rssi'])"
   ]
  },
  {
   "cell_type": "code",
   "execution_count": 20,
   "metadata": {},
   "outputs": [
    {
     "data": {
      "image/png": "[encoded data removed]",
      "text/plain": [
       "<Figure size 1800x576 with 1 Axes>"
      ]
     },
     "metadata": {},
     "output_type": "display_data"
    }
   ],
   "source": [
    "plot = df.plot(figsize=(25,8),fontsize=16)\n",
    "fig = plot.get_figure()"
   ]
  },
  {
   "cell_type": "code",
   "execution_count": 21,
   "metadata": {},
   "outputs": [],
   "source": [
    "fig.savefig(filename + '.png', bbox_inches='tight',dpi=300)"
   ]
  },
  {
   "cell_type": "markdown",
   "metadata": {},
   "source": [
    "---"
   ]
  },
  {
   "cell_type": "code",
   "execution_count": 22,
   "metadata": {},
   "outputs": [],
   "source": [
    "def nakagami_m(h,m):\n",
    "    return (2*(m**m)*h**(2*m-1)*np.exp(-m*h**2))/gamma(m)\n",
    "\n",
    "def fit(data):\n",
    "    Pr = 10**(data/10)\n",
    "    h = np.sqrt(Pr/np.mean(Pr))\n",
    "    paramh = nakagami.fit(h)\n",
    "    x = np.linspace(0,3,1000)\n",
    "    fig, ax = plt.subplots(sharey=False)\n",
    "    ax.plot(x, nakagami.pdf(x,nu=paramh[0],loc=paramh[1],scale=paramh[2]))\n",
    "    ax.set_ylabel('Nakagami')\n",
    "    ax2 = ax.twinx()\n",
    "    h.plot(kind='hist', ax=ax2, color='g')\n",
    "    fig.savefig(filename + '_dist' +'.png', bbox_inches='tight',dpi=300)\n",
    "    pass"
   ]
  },
  {
   "cell_type": "markdown",
   "metadata": {},
   "source": [
    "---"
   ]
  },
  {
   "cell_type": "markdown",
   "metadata": {},
   "source": [
    "## Distribuição do Fading"
   ]
  },
  {
   "cell_type": "code",
   "execution_count": 23,
   "metadata": {},
   "outputs": [
    {
     "name": "stderr",
     "output_type": "stream",
     "text": [
      "c:\\users\\koba\\appdata\\local\\programs\\python\\python36\\lib\\site-packages\\scipy\\stats\\_continuous_distns.py:4502: RuntimeWarning: divide by zero encountered in power\n",
      "  return 2*nu**nu/sc.gamma(nu)*(x**(2*nu-1.0))*np.exp(-nu*x*x)\n"
     ]
    },
    {
     "data": {
      "image/png": "[encoded data removed]",
      "text/plain": [
       "<Figure size 432x288 with 2 Axes>"
      ]
     },
     "metadata": {},
     "output_type": "display_data"
    }
   ],
   "source": [
    "fit(df)"
   ]
  },
  {
   "cell_type": "code",
   "execution_count": 24,
   "metadata": {},
   "outputs": [
    {
     "data": {
      "text/plain": [
       "array([-58, -57, -59, -60, -62, -63, -64, -65, -61, -67, -68, -69, -70,\n",
       "       -66,  31, -72, -74, -76, -77, -78, -80, -79, -75, -73, -71],\n",
       "      dtype=int64)"
      ]
     },
     "execution_count": 24,
     "metadata": {},
     "output_type": "execute_result"
    }
   ],
   "source": [
    "df.rssi.unique()"
   ]
  },
  {
   "cell_type": "code",
   "execution_count": 25,
   "metadata": {},
   "outputs": [],
   "source": [
    "df = df[df.rssi < -35]"
   ]
  },
  {
   "cell_type": "code",
   "execution_count": 26,
   "metadata": {},
   "outputs": [
    {
     "data": {
      "text/plain": [
       "array([-58, -57, -59, -60, -62, -63, -64, -65, -61, -67, -68, -69, -70,\n",
       "       -66, -72, -74, -76, -77, -78, -80, -79, -75, -73, -71], dtype=int64)"
      ]
     },
     "execution_count": 26,
     "metadata": {},
     "output_type": "execute_result"
    }
   ],
   "source": [
    "df.rssi.unique()"
   ]
  },
  {
   "cell_type": "code",
   "execution_count": 27,
   "metadata": {},
   "outputs": [
    {
     "name": "stderr",
     "output_type": "stream",
     "text": [
      "c:\\users\\koba\\appdata\\local\\programs\\python\\python36\\lib\\site-packages\\scipy\\stats\\_continuous_distns.py:4502: RuntimeWarning: overflow encountered in double_scalars\n",
      "  return 2*nu**nu/sc.gamma(nu)*(x**(2*nu-1.0))*np.exp(-nu*x*x)\n"
     ]
    },
    {
     "data": {
      "image/png": "[encoded data removed]",
      "text/plain": [
       "<Figure size 432x288 with 2 Axes>"
      ]
     },
     "metadata": {},
     "output_type": "display_data"
    }
   ],
   "source": [
    "fit(df)"
   ]
  },
  {
   "cell_type": "code",
   "execution_count": null,
   "metadata": {},
   "outputs": [],
   "source": []
  }
 ],
 "metadata": {
  "kernelspec": {
   "display_name": "Python 3",
   "language": "python",
   "name": "python3"
  },
  "language_info": {
   "codemirror_mode": {
    "name": "ipython",
    "version": 3
   },
   "file_extension": ".py",
   "mimetype": "text/x-python",
   "name": "python",
   "nbconvert_exporter": "python",
   "pygments_lexer": "ipython3",
   "version": "3.6.6rc1"
  }
 },
 "nbformat": 4,
 "nbformat_minor": 2
}
